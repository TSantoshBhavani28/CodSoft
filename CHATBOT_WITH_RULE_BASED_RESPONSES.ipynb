{
  "nbformat": 4,
  "nbformat_minor": 0,
  "metadata": {
    "colab": {
      "provenance": []
    },
    "kernelspec": {
      "name": "python3",
      "display_name": "Python 3"
    },
    "language_info": {
      "name": "python"
    }
  },
  "cells": [
    {
      "cell_type": "code",
      "source": [
        "data={\n",
        "    \"hi\":\"Hi there! I'm a friendly chatbot here to assist you?\",\n",
        "    \"hello\":\"Hello! How can I help you today?\",\n",
        "    \"what is your name\":\"I'm just a chatbot,so I don't have a name, but you can call me ChatBot.\",\n",
        "    \"where are you from\":\"I'm from the digital world,always ready to chat!\",\n",
        "    \"how are you\":\"I'm just a chatbot,but I'm here to assist you.\",\n",
        "    \"good morning\" : \"good morning how can i help you\",\n",
        "    \"have a good day\" : \"you too! have a great day!!\",\n",
        "    \"do you have any hobbies or interests?\":\"I'm always busy helping users, so my hobby is chatting with people like you!\",\n",
        "    \"what did you eat today?\":\"I don't eat,but I can help you find delicious recipes and food-related information.\",\n",
        "    \"what's your favorite color?\":\"I'm a chatbot,so I don't have personal preferences for colors.\",\n",
        "    \"do you enjoy listening to music?\":\"I can't listen to music,but I'm here to chat about it!\",\n",
        "    \"bye\":\"Bye! Take care and have a great day!\",\n",
        "}\n"
      ],
      "metadata": {
        "id": "ZIXQP5nWSSmZ"
      },
      "execution_count": null,
      "outputs": []
    },
    {
      "cell_type": "code",
      "source": [
        "def get_response(user_input):\n",
        "    for pattern,response in data.items():\n",
        "        if pattern in user_input:\n",
        "            return response\n",
        "    return \"I'm sorry,I didn't understand that.Can you please rephrase your sentence?\"\n",
        "print(\"Chatbot: Hi! I'm a simple chatbot,I'm here to assist you!\")\n",
        "while True:\n",
        "    user_input=input(\"Me: \")\n",
        "    if user_input=='bye':\n",
        "        print(\"Chatbot: Goodbye! Have a great day!\")\n",
        "        break\n",
        "    response=get_response(user_input)\n",
        "    print(\"Chatbot:\",response)"
      ],
      "metadata": {
        "colab": {
          "base_uri": "https://localhost:8080/",
          "height": 0
        },
        "id": "TL8sfRiMSWci",
        "outputId": "48875320-5efa-40fa-e62a-9706c570a6ed"
      },
      "execution_count": null,
      "outputs": [
        {
          "output_type": "stream",
          "name": "stdout",
          "text": [
            "Chatbot: Hi! I'm a simple chatbot,I'm here to assist you!\n",
            "Me: hello\n",
            "Chatbot: Hello! How can I help you today?\n",
            "Me: good morning\n",
            "Chatbot: good morning how can i help you\n",
            "Me: have a good day\n",
            "Chatbot: you too! have a great day!!\n"
          ]
        }
      ]
    },
    {
      "cell_type": "code",
      "source": [],
      "metadata": {
        "id": "5hWbTX9gSZtw"
      },
      "execution_count": null,
      "outputs": []
    }
  ]
}