{
  "nbformat": 4,
  "nbformat_minor": 0,
  "metadata": {
    "colab": {
      "provenance": []
    },
    "kernelspec": {
      "name": "python3",
      "display_name": "Python 3"
    },
    "language_info": {
      "name": "python"
    }
  },
  "cells": [
    {
      "cell_type": "code",
      "execution_count": null,
      "metadata": {
        "colab": {
          "base_uri": "https://localhost:8080/"
        },
        "id": "cgVl-atCZdWC",
        "outputId": "6e2d96ca-5b33-437d-c7d8-93d2722689c4"
      },
      "outputs": [
        {
          "output_type": "stream",
          "name": "stdout",
          "text": [
            "Recommended movies for User1: Movie5, Movie3, Movie4, Movie2\n",
            "Recommended movies for User2: Movie1\n",
            "Recommended movies for User3: Movie2, Movie1, Movie4\n"
          ]
        }
      ],
      "source": [
        "\n",
        "import numpy as np\n",
        "from sklearn.metrics.pairwise import cosine_similarity\n",
        "\n",
        "# Sample movie data\n",
        "movies = {\n",
        "    'Movie1': [1, 2, 3, 0, 0],\n",
        "    'Movie2': [0, 1, 0, 4, 5],\n",
        "    'Movie3': [2, 0, 1, 3, 0],\n",
        "    'Movie4': [0, 4, 5, 0, 1],\n",
        "    'Movie5': [3, 0, 2, 0, 4]\n",
        "}\n",
        "\n",
        "# Sample user preferences\n",
        "user_preferences = {\n",
        "    'User1': [5, 4, 0, 0, 0],\n",
        "    'User2': [0, 0, 3, 4, 5],\n",
        "    'User3': [1, 0, 0, 3, 0]\n",
        "}\n",
        "\n",
        "def recommend_movies(user_preferences, movies):\n",
        "    recommendations = {}\n",
        "\n",
        "    for user, preferences in user_preferences.items():\n",
        "        similarity_scores = {}\n",
        "        for movie, ratings in movies.items():\n",
        "            similarity_scores[movie] = cosine_similarity([preferences], [ratings])[0][0]\n",
        "\n",
        "        # Sort movies based on similarity scores in descending order\n",
        "        sorted_movies = sorted(similarity_scores.items(), key=lambda x: x[1], reverse=True)\n",
        "\n",
        "        # Filter out movies the user has already rated\n",
        "        recommendations[user] = [movie for movie, _ in sorted_movies if preferences[movies[movie].index(0)] > 0]\n",
        "\n",
        "    return recommendations\n",
        "\n",
        "if __name__ == \"__main__\":\n",
        "    recommendations = recommend_movies(user_preferences, movies)\n",
        "\n",
        "    for user, recommended_movies in recommendations.items():\n",
        "        print(f\"Recommended movies for {user}: {', '.join(recommended_movies)}\")"
      ]
    },
    {
      "cell_type": "code",
      "source": [],
      "metadata": {
        "id": "sZfLMxhwtVIF"
      },
      "execution_count": null,
      "outputs": []
    }
  ]
}